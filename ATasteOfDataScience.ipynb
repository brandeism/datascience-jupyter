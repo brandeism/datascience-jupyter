{
 "cells": [
  {
   "cell_type": "markdown",
   "metadata": {},
   "source": [
    "# A Taste of Data Science [Python]\n",
    "\n",
    "author: Brandeis Marshall\n",
    "\n",
    "date: April 5, 2019"
   ]
  },
  {
   "cell_type": "markdown",
   "metadata": {},
   "source": [
    "## Motivation: Baby's Name & Ethnicity\n",
    "\n",
    "Given a newborn's name, could their race or ethnicity be predicted?\n",
    "\n",
    "*Note: This inquiry is more complex than what is provided in this Jupyter Notebook. \n",
    "Consider the content presented below as a starter kit.*"
   ]
  },
  {
   "cell_type": "markdown",
   "metadata": {},
   "source": [
    "## Lane 1: Data Acquisition & Cleanup"
   ]
  },
  {
   "cell_type": "code",
   "execution_count": 1,
   "metadata": {},
   "outputs": [],
   "source": [
    "import numpy as np #  N-dimensional array scientific computing library \n",
    "import matplotlib.pyplot as plt # Python 2D plotting library\n",
    "import pandas as pd # Python high-performance data structures & data analysis library\n",
    "import seaborn #Python data visualization library based on matplotlib"
   ]
  },
  {
   "cell_type": "code",
   "execution_count": 2,
   "metadata": {},
   "outputs": [],
   "source": [
    "# allows the output of plotting commands to be displayed inline, e.g., \n",
    "# below the code cell that produced it\n",
    "%matplotlib inline "
   ]
  },
  {
   "cell_type": "code",
   "execution_count": 4,
   "metadata": {},
   "outputs": [
    {
     "data": {
      "text/html": [
       "<div>\n",
       "<style scoped>\n",
       "    .dataframe tbody tr th:only-of-type {\n",
       "        vertical-align: middle;\n",
       "    }\n",
       "\n",
       "    .dataframe tbody tr th {\n",
       "        vertical-align: top;\n",
       "    }\n",
       "\n",
       "    .dataframe thead th {\n",
       "        text-align: right;\n",
       "    }\n",
       "</style>\n",
       "<table border=\"1\" class=\"dataframe\">\n",
       "  <thead>\n",
       "    <tr style=\"text-align: right;\">\n",
       "      <th></th>\n",
       "      <th>Year of Birth</th>\n",
       "      <th>Gender</th>\n",
       "      <th>Ethnicity</th>\n",
       "      <th>Child's First Name</th>\n",
       "      <th>Count</th>\n",
       "      <th>Rank</th>\n",
       "    </tr>\n",
       "  </thead>\n",
       "  <tbody>\n",
       "    <tr>\n",
       "      <th>0</th>\n",
       "      <td>2016</td>\n",
       "      <td>FEMALE</td>\n",
       "      <td>ASIAN AND PACIFIC ISLANDER</td>\n",
       "      <td>Olivia</td>\n",
       "      <td>172</td>\n",
       "      <td>1</td>\n",
       "    </tr>\n",
       "    <tr>\n",
       "      <th>1</th>\n",
       "      <td>2016</td>\n",
       "      <td>FEMALE</td>\n",
       "      <td>ASIAN AND PACIFIC ISLANDER</td>\n",
       "      <td>Chloe</td>\n",
       "      <td>112</td>\n",
       "      <td>2</td>\n",
       "    </tr>\n",
       "    <tr>\n",
       "      <th>2</th>\n",
       "      <td>2016</td>\n",
       "      <td>FEMALE</td>\n",
       "      <td>ASIAN AND PACIFIC ISLANDER</td>\n",
       "      <td>Sophia</td>\n",
       "      <td>104</td>\n",
       "      <td>3</td>\n",
       "    </tr>\n",
       "    <tr>\n",
       "      <th>3</th>\n",
       "      <td>2016</td>\n",
       "      <td>FEMALE</td>\n",
       "      <td>ASIAN AND PACIFIC ISLANDER</td>\n",
       "      <td>Emily</td>\n",
       "      <td>99</td>\n",
       "      <td>4</td>\n",
       "    </tr>\n",
       "    <tr>\n",
       "      <th>4</th>\n",
       "      <td>2016</td>\n",
       "      <td>FEMALE</td>\n",
       "      <td>ASIAN AND PACIFIC ISLANDER</td>\n",
       "      <td>Emma</td>\n",
       "      <td>99</td>\n",
       "      <td>4</td>\n",
       "    </tr>\n",
       "    <tr>\n",
       "      <th>5</th>\n",
       "      <td>2016</td>\n",
       "      <td>FEMALE</td>\n",
       "      <td>ASIAN AND PACIFIC ISLANDER</td>\n",
       "      <td>Mia</td>\n",
       "      <td>79</td>\n",
       "      <td>5</td>\n",
       "    </tr>\n",
       "    <tr>\n",
       "      <th>6</th>\n",
       "      <td>2016</td>\n",
       "      <td>FEMALE</td>\n",
       "      <td>ASIAN AND PACIFIC ISLANDER</td>\n",
       "      <td>Charlotte</td>\n",
       "      <td>59</td>\n",
       "      <td>6</td>\n",
       "    </tr>\n",
       "    <tr>\n",
       "      <th>7</th>\n",
       "      <td>2016</td>\n",
       "      <td>FEMALE</td>\n",
       "      <td>ASIAN AND PACIFIC ISLANDER</td>\n",
       "      <td>Sarah</td>\n",
       "      <td>57</td>\n",
       "      <td>7</td>\n",
       "    </tr>\n",
       "    <tr>\n",
       "      <th>8</th>\n",
       "      <td>2016</td>\n",
       "      <td>FEMALE</td>\n",
       "      <td>ASIAN AND PACIFIC ISLANDER</td>\n",
       "      <td>Hannah</td>\n",
       "      <td>56</td>\n",
       "      <td>8</td>\n",
       "    </tr>\n",
       "    <tr>\n",
       "      <th>9</th>\n",
       "      <td>2016</td>\n",
       "      <td>FEMALE</td>\n",
       "      <td>ASIAN AND PACIFIC ISLANDER</td>\n",
       "      <td>Isabella</td>\n",
       "      <td>56</td>\n",
       "      <td>8</td>\n",
       "    </tr>\n",
       "  </tbody>\n",
       "</table>\n",
       "</div>"
      ],
      "text/plain": [
       "   Year of Birth  Gender                   Ethnicity Child's First Name  \\\n",
       "0           2016  FEMALE  ASIAN AND PACIFIC ISLANDER             Olivia   \n",
       "1           2016  FEMALE  ASIAN AND PACIFIC ISLANDER              Chloe   \n",
       "2           2016  FEMALE  ASIAN AND PACIFIC ISLANDER             Sophia   \n",
       "3           2016  FEMALE  ASIAN AND PACIFIC ISLANDER              Emily   \n",
       "4           2016  FEMALE  ASIAN AND PACIFIC ISLANDER               Emma   \n",
       "5           2016  FEMALE  ASIAN AND PACIFIC ISLANDER                Mia   \n",
       "6           2016  FEMALE  ASIAN AND PACIFIC ISLANDER          Charlotte   \n",
       "7           2016  FEMALE  ASIAN AND PACIFIC ISLANDER              Sarah   \n",
       "8           2016  FEMALE  ASIAN AND PACIFIC ISLANDER             Hannah   \n",
       "9           2016  FEMALE  ASIAN AND PACIFIC ISLANDER           Isabella   \n",
       "\n",
       "   Count  Rank  \n",
       "0    172     1  \n",
       "1    112     2  \n",
       "2    104     3  \n",
       "3     99     4  \n",
       "4     99     4  \n",
       "5     79     5  \n",
       "6     59     6  \n",
       "7     57     7  \n",
       "8     56     8  \n",
       "9     56     8  "
      ]
     },
     "execution_count": 4,
     "metadata": {},
     "output_type": "execute_result"
    }
   ],
   "source": [
    "# pre-selected csv file from data.gov\n",
    "# import csv file into a pandas dataframe 'names'\n",
    "#names = pd.read_csv('Popular_Baby_Names_name_sex.csv')\n",
    "\n",
    "# if a public dataset, you can load the file directly from the web address\n",
    "names = pd.read_csv(\"https://data.cityofnewyork.us/api/views/25th-nujf/rows.csv?accessType=DOWNLOAD\")\n",
    "\n",
    "# preview the dataframe 'names' content\n",
    "names.head(10)"
   ]
  },
  {
   "cell_type": "code",
   "execution_count": 5,
   "metadata": {},
   "outputs": [
    {
     "data": {
      "text/html": [
       "<div>\n",
       "<style scoped>\n",
       "    .dataframe tbody tr th:only-of-type {\n",
       "        vertical-align: middle;\n",
       "    }\n",
       "\n",
       "    .dataframe tbody tr th {\n",
       "        vertical-align: top;\n",
       "    }\n",
       "\n",
       "    .dataframe thead th {\n",
       "        text-align: right;\n",
       "    }\n",
       "</style>\n",
       "<table border=\"1\" class=\"dataframe\">\n",
       "  <thead>\n",
       "    <tr style=\"text-align: right;\">\n",
       "      <th></th>\n",
       "      <th>Year of Birth</th>\n",
       "      <th>Gender</th>\n",
       "      <th>Ethnicity</th>\n",
       "      <th>Name</th>\n",
       "      <th>Count</th>\n",
       "      <th>Rank</th>\n",
       "    </tr>\n",
       "  </thead>\n",
       "  <tbody>\n",
       "    <tr>\n",
       "      <th>0</th>\n",
       "      <td>2016</td>\n",
       "      <td>FEMALE</td>\n",
       "      <td>ASIAN AND PACIFIC ISLANDER</td>\n",
       "      <td>Olivia</td>\n",
       "      <td>172</td>\n",
       "      <td>1</td>\n",
       "    </tr>\n",
       "    <tr>\n",
       "      <th>1</th>\n",
       "      <td>2016</td>\n",
       "      <td>FEMALE</td>\n",
       "      <td>ASIAN AND PACIFIC ISLANDER</td>\n",
       "      <td>Chloe</td>\n",
       "      <td>112</td>\n",
       "      <td>2</td>\n",
       "    </tr>\n",
       "    <tr>\n",
       "      <th>2</th>\n",
       "      <td>2016</td>\n",
       "      <td>FEMALE</td>\n",
       "      <td>ASIAN AND PACIFIC ISLANDER</td>\n",
       "      <td>Sophia</td>\n",
       "      <td>104</td>\n",
       "      <td>3</td>\n",
       "    </tr>\n",
       "    <tr>\n",
       "      <th>3</th>\n",
       "      <td>2016</td>\n",
       "      <td>FEMALE</td>\n",
       "      <td>ASIAN AND PACIFIC ISLANDER</td>\n",
       "      <td>Emily</td>\n",
       "      <td>99</td>\n",
       "      <td>4</td>\n",
       "    </tr>\n",
       "    <tr>\n",
       "      <th>4</th>\n",
       "      <td>2016</td>\n",
       "      <td>FEMALE</td>\n",
       "      <td>ASIAN AND PACIFIC ISLANDER</td>\n",
       "      <td>Emma</td>\n",
       "      <td>99</td>\n",
       "      <td>4</td>\n",
       "    </tr>\n",
       "    <tr>\n",
       "      <th>5</th>\n",
       "      <td>2016</td>\n",
       "      <td>FEMALE</td>\n",
       "      <td>ASIAN AND PACIFIC ISLANDER</td>\n",
       "      <td>Mia</td>\n",
       "      <td>79</td>\n",
       "      <td>5</td>\n",
       "    </tr>\n",
       "    <tr>\n",
       "      <th>6</th>\n",
       "      <td>2016</td>\n",
       "      <td>FEMALE</td>\n",
       "      <td>ASIAN AND PACIFIC ISLANDER</td>\n",
       "      <td>Charlotte</td>\n",
       "      <td>59</td>\n",
       "      <td>6</td>\n",
       "    </tr>\n",
       "    <tr>\n",
       "      <th>7</th>\n",
       "      <td>2016</td>\n",
       "      <td>FEMALE</td>\n",
       "      <td>ASIAN AND PACIFIC ISLANDER</td>\n",
       "      <td>Sarah</td>\n",
       "      <td>57</td>\n",
       "      <td>7</td>\n",
       "    </tr>\n",
       "    <tr>\n",
       "      <th>8</th>\n",
       "      <td>2016</td>\n",
       "      <td>FEMALE</td>\n",
       "      <td>ASIAN AND PACIFIC ISLANDER</td>\n",
       "      <td>Hannah</td>\n",
       "      <td>56</td>\n",
       "      <td>8</td>\n",
       "    </tr>\n",
       "    <tr>\n",
       "      <th>9</th>\n",
       "      <td>2016</td>\n",
       "      <td>FEMALE</td>\n",
       "      <td>ASIAN AND PACIFIC ISLANDER</td>\n",
       "      <td>Isabella</td>\n",
       "      <td>56</td>\n",
       "      <td>8</td>\n",
       "    </tr>\n",
       "  </tbody>\n",
       "</table>\n",
       "</div>"
      ],
      "text/plain": [
       "   Year of Birth  Gender                   Ethnicity       Name  Count  Rank\n",
       "0           2016  FEMALE  ASIAN AND PACIFIC ISLANDER     Olivia    172     1\n",
       "1           2016  FEMALE  ASIAN AND PACIFIC ISLANDER      Chloe    112     2\n",
       "2           2016  FEMALE  ASIAN AND PACIFIC ISLANDER     Sophia    104     3\n",
       "3           2016  FEMALE  ASIAN AND PACIFIC ISLANDER      Emily     99     4\n",
       "4           2016  FEMALE  ASIAN AND PACIFIC ISLANDER       Emma     99     4\n",
       "5           2016  FEMALE  ASIAN AND PACIFIC ISLANDER        Mia     79     5\n",
       "6           2016  FEMALE  ASIAN AND PACIFIC ISLANDER  Charlotte     59     6\n",
       "7           2016  FEMALE  ASIAN AND PACIFIC ISLANDER      Sarah     57     7\n",
       "8           2016  FEMALE  ASIAN AND PACIFIC ISLANDER     Hannah     56     8\n",
       "9           2016  FEMALE  ASIAN AND PACIFIC ISLANDER   Isabella     56     8"
      ]
     },
     "execution_count": 5,
     "metadata": {},
     "output_type": "execute_result"
    }
   ],
   "source": [
    "names = names.rename(index=str, columns={\"Child's First Name\": \"Name\"})\n",
    "names.head(10)"
   ]
  },
  {
   "cell_type": "code",
   "execution_count": 6,
   "metadata": {},
   "outputs": [
    {
     "name": "stdout",
     "output_type": "stream",
     "text": [
      "<class 'pandas.core.frame.DataFrame'>\n",
      "Index: 11345 entries, 0 to 11344\n",
      "Data columns (total 6 columns):\n",
      "Year of Birth    11345 non-null int64\n",
      "Gender           11345 non-null object\n",
      "Ethnicity        11345 non-null object\n",
      "Name             11345 non-null object\n",
      "Count            11345 non-null int64\n",
      "Rank             11345 non-null int64\n",
      "dtypes: int64(3), object(3)\n",
      "memory usage: 620.4+ KB\n"
     ]
    }
   ],
   "source": [
    "# datatypes assigned to each column must be appropriately categorized\n",
    "names.info()"
   ]
  },
  {
   "cell_type": "code",
   "execution_count": 7,
   "metadata": {},
   "outputs": [
    {
     "data": {
      "text/html": [
       "<div>\n",
       "<style scoped>\n",
       "    .dataframe tbody tr th:only-of-type {\n",
       "        vertical-align: middle;\n",
       "    }\n",
       "\n",
       "    .dataframe tbody tr th {\n",
       "        vertical-align: top;\n",
       "    }\n",
       "\n",
       "    .dataframe thead th {\n",
       "        text-align: right;\n",
       "    }\n",
       "</style>\n",
       "<table border=\"1\" class=\"dataframe\">\n",
       "  <thead>\n",
       "    <tr style=\"text-align: right;\">\n",
       "      <th></th>\n",
       "      <th>Year of Birth</th>\n",
       "      <th>Count</th>\n",
       "      <th>Rank</th>\n",
       "    </tr>\n",
       "  </thead>\n",
       "  <tbody>\n",
       "    <tr>\n",
       "      <th>count</th>\n",
       "      <td>11345.000000</td>\n",
       "      <td>11345.000000</td>\n",
       "      <td>11345.000000</td>\n",
       "    </tr>\n",
       "    <tr>\n",
       "      <th>mean</th>\n",
       "      <td>2013.552578</td>\n",
       "      <td>32.836844</td>\n",
       "      <td>57.656765</td>\n",
       "    </tr>\n",
       "    <tr>\n",
       "      <th>std</th>\n",
       "      <td>1.746367</td>\n",
       "      <td>36.981866</td>\n",
       "      <td>25.186882</td>\n",
       "    </tr>\n",
       "    <tr>\n",
       "      <th>min</th>\n",
       "      <td>2011.000000</td>\n",
       "      <td>10.000000</td>\n",
       "      <td>1.000000</td>\n",
       "    </tr>\n",
       "    <tr>\n",
       "      <th>25%</th>\n",
       "      <td>2012.000000</td>\n",
       "      <td>13.000000</td>\n",
       "      <td>38.000000</td>\n",
       "    </tr>\n",
       "    <tr>\n",
       "      <th>50%</th>\n",
       "      <td>2014.000000</td>\n",
       "      <td>20.000000</td>\n",
       "      <td>59.000000</td>\n",
       "    </tr>\n",
       "    <tr>\n",
       "      <th>75%</th>\n",
       "      <td>2015.000000</td>\n",
       "      <td>35.000000</td>\n",
       "      <td>79.000000</td>\n",
       "    </tr>\n",
       "    <tr>\n",
       "      <th>max</th>\n",
       "      <td>2016.000000</td>\n",
       "      <td>387.000000</td>\n",
       "      <td>102.000000</td>\n",
       "    </tr>\n",
       "  </tbody>\n",
       "</table>\n",
       "</div>"
      ],
      "text/plain": [
       "       Year of Birth         Count          Rank\n",
       "count   11345.000000  11345.000000  11345.000000\n",
       "mean     2013.552578     32.836844     57.656765\n",
       "std         1.746367     36.981866     25.186882\n",
       "min      2011.000000     10.000000      1.000000\n",
       "25%      2012.000000     13.000000     38.000000\n",
       "50%      2014.000000     20.000000     59.000000\n",
       "75%      2015.000000     35.000000     79.000000\n",
       "max      2016.000000    387.000000    102.000000"
      ]
     },
     "execution_count": 7,
     "metadata": {},
     "output_type": "execute_result"
    }
   ],
   "source": [
    "# For the numeric columns, view basic descriptive statistics\n",
    "names.describe()"
   ]
  },
  {
   "cell_type": "markdown",
   "metadata": {},
   "source": [
    "## Lane 2: Data Storage & Management"
   ]
  },
  {
   "cell_type": "code",
   "execution_count": 8,
   "metadata": {},
   "outputs": [],
   "source": [
    "# more data wrangling: consistency formatting for ethnicities\n",
    "names = names.replace(\"BLACK NON HISP\", \"BLACK NON HISPANIC\")\n",
    "names = names.replace(\"ASIAN AND PACI\", \"ASIAN AND PACIFIC ISLANDER\")\n",
    "names = names.replace(\"WHITE NON HISP\", \"WHITE NON HISPANIC\")"
   ]
  },
  {
   "cell_type": "code",
   "execution_count": 9,
   "metadata": {
    "scrolled": true
   },
   "outputs": [
    {
     "data": {
      "text/html": [
       "<div>\n",
       "<style scoped>\n",
       "    .dataframe tbody tr th:only-of-type {\n",
       "        vertical-align: middle;\n",
       "    }\n",
       "\n",
       "    .dataframe tbody tr th {\n",
       "        vertical-align: top;\n",
       "    }\n",
       "\n",
       "    .dataframe thead th {\n",
       "        text-align: right;\n",
       "    }\n",
       "</style>\n",
       "<table border=\"1\" class=\"dataframe\">\n",
       "  <thead>\n",
       "    <tr style=\"text-align: right;\">\n",
       "      <th></th>\n",
       "      <th></th>\n",
       "      <th></th>\n",
       "      <th>Ethnicity</th>\n",
       "      <th>Count</th>\n",
       "      <th>Rank</th>\n",
       "    </tr>\n",
       "    <tr>\n",
       "      <th>Gender</th>\n",
       "      <th>Name</th>\n",
       "      <th>Year of Birth</th>\n",
       "      <th></th>\n",
       "      <th></th>\n",
       "      <th></th>\n",
       "    </tr>\n",
       "  </thead>\n",
       "  <tbody>\n",
       "    <tr>\n",
       "      <th rowspan=\"20\" valign=\"top\">FEMALE</th>\n",
       "      <th rowspan=\"4\" valign=\"top\">AALIYAH</th>\n",
       "      <th>2011</th>\n",
       "      <td>BLACK NON HISPANIC</td>\n",
       "      <td>69</td>\n",
       "      <td>5</td>\n",
       "    </tr>\n",
       "    <tr>\n",
       "      <th>2011</th>\n",
       "      <td>HISPANIC</td>\n",
       "      <td>63</td>\n",
       "      <td>30</td>\n",
       "    </tr>\n",
       "    <tr>\n",
       "      <th>2012</th>\n",
       "      <td>BLACK NON HISPANIC</td>\n",
       "      <td>55</td>\n",
       "      <td>10</td>\n",
       "    </tr>\n",
       "    <tr>\n",
       "      <th>2012</th>\n",
       "      <td>HISPANIC</td>\n",
       "      <td>68</td>\n",
       "      <td>26</td>\n",
       "    </tr>\n",
       "    <tr>\n",
       "      <th rowspan=\"2\" valign=\"top\">ABBY</th>\n",
       "      <th>2011</th>\n",
       "      <td>HISPANIC</td>\n",
       "      <td>10</td>\n",
       "      <td>78</td>\n",
       "    </tr>\n",
       "    <tr>\n",
       "      <th>2012</th>\n",
       "      <td>ASIAN AND PACIFIC ISLANDER</td>\n",
       "      <td>11</td>\n",
       "      <td>44</td>\n",
       "    </tr>\n",
       "    <tr>\n",
       "      <th rowspan=\"7\" valign=\"top\">ABIGAIL</th>\n",
       "      <th>2011</th>\n",
       "      <td>ASIAN AND PACIFIC ISLANDER</td>\n",
       "      <td>24</td>\n",
       "      <td>24</td>\n",
       "    </tr>\n",
       "    <tr>\n",
       "      <th>2011</th>\n",
       "      <td>BLACK NON HISPANIC</td>\n",
       "      <td>51</td>\n",
       "      <td>11</td>\n",
       "    </tr>\n",
       "    <tr>\n",
       "      <th>2011</th>\n",
       "      <td>HISPANIC</td>\n",
       "      <td>80</td>\n",
       "      <td>21</td>\n",
       "    </tr>\n",
       "    <tr>\n",
       "      <th>2011</th>\n",
       "      <td>WHITE NON HISPANIC</td>\n",
       "      <td>103</td>\n",
       "      <td>19</td>\n",
       "    </tr>\n",
       "    <tr>\n",
       "      <th>2012</th>\n",
       "      <td>ASIAN AND PACIFIC ISLANDER</td>\n",
       "      <td>29</td>\n",
       "      <td>26</td>\n",
       "    </tr>\n",
       "    <tr>\n",
       "      <th>2012</th>\n",
       "      <td>BLACK NON HISPANIC</td>\n",
       "      <td>66</td>\n",
       "      <td>5</td>\n",
       "    </tr>\n",
       "    <tr>\n",
       "      <th>2012</th>\n",
       "      <td>HISPANIC</td>\n",
       "      <td>99</td>\n",
       "      <td>15</td>\n",
       "    </tr>\n",
       "    <tr>\n",
       "      <th rowspan=\"3\" valign=\"top\">ADA</th>\n",
       "      <th>2011</th>\n",
       "      <td>ASIAN AND PACIFIC ISLANDER</td>\n",
       "      <td>13</td>\n",
       "      <td>35</td>\n",
       "    </tr>\n",
       "    <tr>\n",
       "      <th>2012</th>\n",
       "      <td>ASIAN AND PACIFIC ISLANDER</td>\n",
       "      <td>12</td>\n",
       "      <td>43</td>\n",
       "    </tr>\n",
       "    <tr>\n",
       "      <th>2012</th>\n",
       "      <td>WHITE NON HISPANIC</td>\n",
       "      <td>14</td>\n",
       "      <td>79</td>\n",
       "    </tr>\n",
       "    <tr>\n",
       "      <th rowspan=\"3\" valign=\"top\">ADDISON</th>\n",
       "      <th>2011</th>\n",
       "      <td>BLACK NON HISPANIC</td>\n",
       "      <td>13</td>\n",
       "      <td>42</td>\n",
       "    </tr>\n",
       "    <tr>\n",
       "      <th>2011</th>\n",
       "      <td>WHITE NON HISPANIC</td>\n",
       "      <td>19</td>\n",
       "      <td>72</td>\n",
       "    </tr>\n",
       "    <tr>\n",
       "      <th>2012</th>\n",
       "      <td>WHITE NON HISPANIC</td>\n",
       "      <td>32</td>\n",
       "      <td>61</td>\n",
       "    </tr>\n",
       "    <tr>\n",
       "      <th>ADELAIDE</th>\n",
       "      <th>2012</th>\n",
       "      <td>WHITE NON HISPANIC</td>\n",
       "      <td>19</td>\n",
       "      <td>74</td>\n",
       "    </tr>\n",
       "  </tbody>\n",
       "</table>\n",
       "</div>"
      ],
      "text/plain": [
       "                                                Ethnicity  Count  Rank\n",
       "Gender Name     Year of Birth                                         \n",
       "FEMALE AALIYAH  2011                   BLACK NON HISPANIC     69     5\n",
       "                2011                             HISPANIC     63    30\n",
       "                2012                   BLACK NON HISPANIC     55    10\n",
       "                2012                             HISPANIC     68    26\n",
       "       ABBY     2011                             HISPANIC     10    78\n",
       "                2012           ASIAN AND PACIFIC ISLANDER     11    44\n",
       "       ABIGAIL  2011           ASIAN AND PACIFIC ISLANDER     24    24\n",
       "                2011                   BLACK NON HISPANIC     51    11\n",
       "                2011                             HISPANIC     80    21\n",
       "                2011                   WHITE NON HISPANIC    103    19\n",
       "                2012           ASIAN AND PACIFIC ISLANDER     29    26\n",
       "                2012                   BLACK NON HISPANIC     66     5\n",
       "                2012                             HISPANIC     99    15\n",
       "       ADA      2011           ASIAN AND PACIFIC ISLANDER     13    35\n",
       "                2012           ASIAN AND PACIFIC ISLANDER     12    43\n",
       "                2012                   WHITE NON HISPANIC     14    79\n",
       "       ADDISON  2011                   BLACK NON HISPANIC     13    42\n",
       "                2011                   WHITE NON HISPANIC     19    72\n",
       "                2012                   WHITE NON HISPANIC     32    61\n",
       "       ADELAIDE 2012                   WHITE NON HISPANIC     19    74"
      ]
     },
     "execution_count": 9,
     "metadata": {},
     "output_type": "execute_result"
    }
   ],
   "source": [
    "# Since baby name and race are our primary focus, let's index accordingly. \n",
    "# We separate names by gender\n",
    "names_idx = names.set_index(['Gender',\"Name\",'Year of Birth']).sort_index()\n",
    "\n",
    "# display first 20 results\n",
    "names_idx.head(20)"
   ]
  },
  {
   "cell_type": "code",
   "execution_count": 10,
   "metadata": {},
   "outputs": [],
   "source": [
    "# organize data by race\n",
    "# Although this dataset doesn't have an null entries, it's good practice to execute the dropna method just in case.\n",
    "asian = names_idx.where(names_idx.Ethnicity == \"ASIAN AND PACIFIC ISLANDER\").dropna()\n",
    "black = names_idx.where(names_idx.Ethnicity == \"BLACK NON HISPANIC\").dropna()\n",
    "hispanic = names_idx.where(names_idx.Ethnicity == \"HISPANIC\").dropna()\n",
    "white = names_idx.where(names_idx.Ethnicity == \"WHITE NON HISPANIC\").dropna()"
   ]
  },
  {
   "cell_type": "code",
   "execution_count": 11,
   "metadata": {},
   "outputs": [
    {
     "data": {
      "text/html": [
       "<div>\n",
       "<style scoped>\n",
       "    .dataframe tbody tr th:only-of-type {\n",
       "        vertical-align: middle;\n",
       "    }\n",
       "\n",
       "    .dataframe tbody tr th {\n",
       "        vertical-align: top;\n",
       "    }\n",
       "\n",
       "    .dataframe thead th {\n",
       "        text-align: right;\n",
       "    }\n",
       "</style>\n",
       "<table border=\"1\" class=\"dataframe\">\n",
       "  <thead>\n",
       "    <tr style=\"text-align: right;\">\n",
       "      <th></th>\n",
       "      <th></th>\n",
       "      <th></th>\n",
       "      <th>Ethnicity</th>\n",
       "      <th>Count</th>\n",
       "      <th>Rank</th>\n",
       "    </tr>\n",
       "    <tr>\n",
       "      <th>Gender</th>\n",
       "      <th>Name</th>\n",
       "      <th>Year of Birth</th>\n",
       "      <th></th>\n",
       "      <th></th>\n",
       "      <th></th>\n",
       "    </tr>\n",
       "  </thead>\n",
       "  <tbody>\n",
       "    <tr>\n",
       "      <th rowspan=\"5\" valign=\"top\">FEMALE</th>\n",
       "      <th>ABBY</th>\n",
       "      <th>2012</th>\n",
       "      <td>ASIAN AND PACIFIC ISLANDER</td>\n",
       "      <td>11.0</td>\n",
       "      <td>44.0</td>\n",
       "    </tr>\n",
       "    <tr>\n",
       "      <th rowspan=\"2\" valign=\"top\">ABIGAIL</th>\n",
       "      <th>2011</th>\n",
       "      <td>ASIAN AND PACIFIC ISLANDER</td>\n",
       "      <td>24.0</td>\n",
       "      <td>24.0</td>\n",
       "    </tr>\n",
       "    <tr>\n",
       "      <th>2012</th>\n",
       "      <td>ASIAN AND PACIFIC ISLANDER</td>\n",
       "      <td>29.0</td>\n",
       "      <td>26.0</td>\n",
       "    </tr>\n",
       "    <tr>\n",
       "      <th rowspan=\"2\" valign=\"top\">ADA</th>\n",
       "      <th>2011</th>\n",
       "      <td>ASIAN AND PACIFIC ISLANDER</td>\n",
       "      <td>13.0</td>\n",
       "      <td>35.0</td>\n",
       "    </tr>\n",
       "    <tr>\n",
       "      <th>2012</th>\n",
       "      <td>ASIAN AND PACIFIC ISLANDER</td>\n",
       "      <td>12.0</td>\n",
       "      <td>43.0</td>\n",
       "    </tr>\n",
       "  </tbody>\n",
       "</table>\n",
       "</div>"
      ],
      "text/plain": [
       "                                               Ethnicity  Count  Rank\n",
       "Gender Name    Year of Birth                                         \n",
       "FEMALE ABBY    2012           ASIAN AND PACIFIC ISLANDER   11.0  44.0\n",
       "       ABIGAIL 2011           ASIAN AND PACIFIC ISLANDER   24.0  24.0\n",
       "               2012           ASIAN AND PACIFIC ISLANDER   29.0  26.0\n",
       "       ADA     2011           ASIAN AND PACIFIC ISLANDER   13.0  35.0\n",
       "               2012           ASIAN AND PACIFIC ISLANDER   12.0  43.0"
      ]
     },
     "execution_count": 11,
     "metadata": {},
     "output_type": "execute_result"
    }
   ],
   "source": [
    "# preview an ethnic category\n",
    "asian.head()"
   ]
  },
  {
   "cell_type": "code",
   "execution_count": 12,
   "metadata": {},
   "outputs": [
    {
     "name": "stdout",
     "output_type": "stream",
     "text": [
      "1997\n",
      "2032\n",
      "3314\n",
      "4002\n"
     ]
    }
   ],
   "source": [
    "# consider the tally for each ethnicity\n",
    "print(len(asian))\n",
    "print(len(black))\n",
    "print(len(hispanic))\n",
    "print(len(white))"
   ]
  },
  {
   "cell_type": "code",
   "execution_count": 13,
   "metadata": {},
   "outputs": [
    {
     "name": "stdout",
     "output_type": "stream",
     "text": [
      "11345\n"
     ]
    }
   ],
   "source": [
    "# check: sum of the tally is the same as number of instances upon dataframe loading\n",
    "print(len(asian)+len(black)+len(hispanic)+len(white))"
   ]
  },
  {
   "cell_type": "markdown",
   "metadata": {},
   "source": [
    "# Lane 3: Data Analysis\n",
    "Exploratory Data Analysis, where we are dissecting data *responsibily*"
   ]
  },
  {
   "cell_type": "markdown",
   "metadata": {},
   "source": [
    "## Preliminary Dataset Assessment"
   ]
  },
  {
   "cell_type": "code",
   "execution_count": 14,
   "metadata": {},
   "outputs": [
    {
     "data": {
      "image/png": "[encoded data removed]",
      "text/plain": [
       "<Figure size 432x288 with 1 Axes>"
      ]
     },
     "metadata": {},
     "output_type": "display_data"
    }
   ],
   "source": [
    "# understanding ethnicity representation\n",
    "labels = 'Asian', 'Black', 'Hispanic', 'White'\n",
    "sizes = [len(asian), len(black), len(hispanic), len(white)]\n",
    "colors = ['gold', 'yellowgreen', 'lightcoral', 'lightskyblue']\n",
    "explode = (0.0, 0.1, 0, 0)  # explode 1st slice\n",
    " \n",
    "# Plot\n",
    "plt.pie(sizes, explode=explode, labels=labels, colors=colors,\n",
    "autopct='%1.1f%%', shadow=True, startangle=140)\n",
    " \n",
    "plt.axis('equal')\n",
    "plt.show()"
   ]
  },
  {
   "cell_type": "code",
   "execution_count": 15,
   "metadata": {},
   "outputs": [
    {
     "data": {
      "text/html": [
       "<div>\n",
       "<style scoped>\n",
       "    .dataframe tbody tr th:only-of-type {\n",
       "        vertical-align: middle;\n",
       "    }\n",
       "\n",
       "    .dataframe tbody tr th {\n",
       "        vertical-align: top;\n",
       "    }\n",
       "\n",
       "    .dataframe thead th {\n",
       "        text-align: right;\n",
       "    }\n",
       "</style>\n",
       "<table border=\"1\" class=\"dataframe\">\n",
       "  <thead>\n",
       "    <tr style=\"text-align: right;\">\n",
       "      <th></th>\n",
       "      <th>Year of Birth</th>\n",
       "      <th>Gender</th>\n",
       "      <th>Ethnicity</th>\n",
       "      <th>Name</th>\n",
       "      <th>Count</th>\n",
       "      <th>Rank</th>\n",
       "    </tr>\n",
       "  </thead>\n",
       "  <tbody>\n",
       "    <tr>\n",
       "      <th>0</th>\n",
       "      <td>2016.0</td>\n",
       "      <td>FEMALE</td>\n",
       "      <td>ASIAN AND PACIFIC ISLANDER</td>\n",
       "      <td>Olivia</td>\n",
       "      <td>172.0</td>\n",
       "      <td>1.0</td>\n",
       "    </tr>\n",
       "    <tr>\n",
       "      <th>1</th>\n",
       "      <td>2016.0</td>\n",
       "      <td>FEMALE</td>\n",
       "      <td>ASIAN AND PACIFIC ISLANDER</td>\n",
       "      <td>Chloe</td>\n",
       "      <td>112.0</td>\n",
       "      <td>2.0</td>\n",
       "    </tr>\n",
       "    <tr>\n",
       "      <th>2</th>\n",
       "      <td>2016.0</td>\n",
       "      <td>FEMALE</td>\n",
       "      <td>ASIAN AND PACIFIC ISLANDER</td>\n",
       "      <td>Sophia</td>\n",
       "      <td>104.0</td>\n",
       "      <td>3.0</td>\n",
       "    </tr>\n",
       "    <tr>\n",
       "      <th>3</th>\n",
       "      <td>2016.0</td>\n",
       "      <td>FEMALE</td>\n",
       "      <td>ASIAN AND PACIFIC ISLANDER</td>\n",
       "      <td>Emily</td>\n",
       "      <td>99.0</td>\n",
       "      <td>4.0</td>\n",
       "    </tr>\n",
       "    <tr>\n",
       "      <th>4</th>\n",
       "      <td>2016.0</td>\n",
       "      <td>FEMALE</td>\n",
       "      <td>ASIAN AND PACIFIC ISLANDER</td>\n",
       "      <td>Emma</td>\n",
       "      <td>99.0</td>\n",
       "      <td>4.0</td>\n",
       "    </tr>\n",
       "  </tbody>\n",
       "</table>\n",
       "</div>"
      ],
      "text/plain": [
       "   Year of Birth  Gender                   Ethnicity    Name  Count  Rank\n",
       "0         2016.0  FEMALE  ASIAN AND PACIFIC ISLANDER  Olivia  172.0   1.0\n",
       "1         2016.0  FEMALE  ASIAN AND PACIFIC ISLANDER   Chloe  112.0   2.0\n",
       "2         2016.0  FEMALE  ASIAN AND PACIFIC ISLANDER  Sophia  104.0   3.0\n",
       "3         2016.0  FEMALE  ASIAN AND PACIFIC ISLANDER   Emily   99.0   4.0\n",
       "4         2016.0  FEMALE  ASIAN AND PACIFIC ISLANDER    Emma   99.0   4.0"
      ]
     },
     "execution_count": 15,
     "metadata": {},
     "output_type": "execute_result"
    }
   ],
   "source": [
    "# male/female plot\n",
    "# organize data by gender\n",
    "# Although this dataset doesn't have an null entries, it's good practice to execute the dropna method just in case.\n",
    "babygirls = names.where(names.Gender == \"FEMALE\").dropna()\n",
    "babyboys = names.where(names.Gender == \"MALE\").dropna()\n",
    "\n",
    "babygirls.head()\n"
   ]
  },
  {
   "cell_type": "code",
   "execution_count": 16,
   "metadata": {},
   "outputs": [
    {
     "data": {
      "image/png": "[encoded data removed]",
      "text/plain": [
       "<Figure size 432x288 with 1 Axes>"
      ]
     },
     "metadata": {},
     "output_type": "display_data"
    }
   ],
   "source": [
    "# understanding gender representation in dataset\n",
    "labels = 'Baby Girls', 'Baby Boys'\n",
    "sizes = [len(babygirls), len(babyboys)]\n",
    "colors = ['lightcoral', 'lightskyblue']\n",
    "explode = (0.1, 0)  # explode 1st slice\n",
    " \n",
    "# Plot\n",
    "plt.pie(sizes, explode=explode, labels=labels, colors=colors,\n",
    "autopct='%1.1f%%', shadow=True, startangle=140)\n",
    " \n",
    "plt.axis('equal')\n",
    "plt.show()"
   ]
  },
  {
   "cell_type": "markdown",
   "metadata": {},
   "source": [
    "## Popular Baby Names (Overall)"
   ]
  },
  {
   "cell_type": "code",
   "execution_count": 17,
   "metadata": {},
   "outputs": [
    {
     "data": {
      "text/html": [
       "<div>\n",
       "<style scoped>\n",
       "    .dataframe tbody tr th:only-of-type {\n",
       "        vertical-align: middle;\n",
       "    }\n",
       "\n",
       "    .dataframe tbody tr th {\n",
       "        vertical-align: top;\n",
       "    }\n",
       "\n",
       "    .dataframe thead th {\n",
       "        text-align: right;\n",
       "    }\n",
       "</style>\n",
       "<table border=\"1\" class=\"dataframe\">\n",
       "  <thead>\n",
       "    <tr style=\"text-align: right;\">\n",
       "      <th></th>\n",
       "      <th>Year of Birth</th>\n",
       "      <th>Gender</th>\n",
       "      <th>Ethnicity</th>\n",
       "      <th>Name</th>\n",
       "      <th>Count</th>\n",
       "      <th>Rank</th>\n",
       "    </tr>\n",
       "  </thead>\n",
       "  <tbody>\n",
       "    <tr>\n",
       "      <th>1413</th>\n",
       "      <td>2016</td>\n",
       "      <td>MALE</td>\n",
       "      <td>HISPANIC</td>\n",
       "      <td>Liam</td>\n",
       "      <td>387</td>\n",
       "      <td>1</td>\n",
       "    </tr>\n",
       "    <tr>\n",
       "      <th>3477</th>\n",
       "      <td>2015</td>\n",
       "      <td>MALE</td>\n",
       "      <td>HISPANIC</td>\n",
       "      <td>Liam</td>\n",
       "      <td>356</td>\n",
       "      <td>1</td>\n",
       "    </tr>\n",
       "    <tr>\n",
       "      <th>1414</th>\n",
       "      <td>2016</td>\n",
       "      <td>MALE</td>\n",
       "      <td>HISPANIC</td>\n",
       "      <td>Jacob</td>\n",
       "      <td>351</td>\n",
       "      <td>2</td>\n",
       "    </tr>\n",
       "    <tr>\n",
       "      <th>3478</th>\n",
       "      <td>2015</td>\n",
       "      <td>MALE</td>\n",
       "      <td>HISPANIC</td>\n",
       "      <td>Dylan</td>\n",
       "      <td>339</td>\n",
       "      <td>2</td>\n",
       "    </tr>\n",
       "    <tr>\n",
       "      <th>3479</th>\n",
       "      <td>2015</td>\n",
       "      <td>MALE</td>\n",
       "      <td>HISPANIC</td>\n",
       "      <td>Ethan</td>\n",
       "      <td>332</td>\n",
       "      <td>3</td>\n",
       "    </tr>\n",
       "    <tr>\n",
       "      <th>9743</th>\n",
       "      <td>2011</td>\n",
       "      <td>FEMALE</td>\n",
       "      <td>HISPANIC</td>\n",
       "      <td>ISABELLA</td>\n",
       "      <td>331</td>\n",
       "      <td>1</td>\n",
       "    </tr>\n",
       "    <tr>\n",
       "      <th>1415</th>\n",
       "      <td>2016</td>\n",
       "      <td>MALE</td>\n",
       "      <td>HISPANIC</td>\n",
       "      <td>Dylan</td>\n",
       "      <td>312</td>\n",
       "      <td>3</td>\n",
       "    </tr>\n",
       "    <tr>\n",
       "      <th>5302</th>\n",
       "      <td>2014</td>\n",
       "      <td>MALE</td>\n",
       "      <td>HISPANIC</td>\n",
       "      <td>Liam</td>\n",
       "      <td>312</td>\n",
       "      <td>1</td>\n",
       "    </tr>\n",
       "    <tr>\n",
       "      <th>10749</th>\n",
       "      <td>2011</td>\n",
       "      <td>MALE</td>\n",
       "      <td>HISPANIC</td>\n",
       "      <td>JUSTIN</td>\n",
       "      <td>310</td>\n",
       "      <td>2</td>\n",
       "    </tr>\n",
       "    <tr>\n",
       "      <th>3480</th>\n",
       "      <td>2015</td>\n",
       "      <td>MALE</td>\n",
       "      <td>HISPANIC</td>\n",
       "      <td>Matthew</td>\n",
       "      <td>308</td>\n",
       "      <td>4</td>\n",
       "    </tr>\n",
       "  </tbody>\n",
       "</table>\n",
       "</div>"
      ],
      "text/plain": [
       "       Year of Birth  Gender Ethnicity      Name  Count  Rank\n",
       "1413            2016    MALE  HISPANIC      Liam    387     1\n",
       "3477            2015    MALE  HISPANIC      Liam    356     1\n",
       "1414            2016    MALE  HISPANIC     Jacob    351     2\n",
       "3478            2015    MALE  HISPANIC     Dylan    339     2\n",
       "3479            2015    MALE  HISPANIC     Ethan    332     3\n",
       "9743            2011  FEMALE  HISPANIC  ISABELLA    331     1\n",
       "1415            2016    MALE  HISPANIC     Dylan    312     3\n",
       "5302            2014    MALE  HISPANIC      Liam    312     1\n",
       "10749           2011    MALE  HISPANIC    JUSTIN    310     2\n",
       "3480            2015    MALE  HISPANIC   Matthew    308     4"
      ]
     },
     "execution_count": 17,
     "metadata": {},
     "output_type": "execute_result"
    }
   ],
   "source": [
    "# sort by popular names\n",
    "pop_names = names.sort_values(by=['Count'], ascending=False)\n",
    "pop_names.head(10)"
   ]
  },
  {
   "cell_type": "code",
   "execution_count": 18,
   "metadata": {},
   "outputs": [
    {
     "data": {
      "text/plain": [
       "Name\n",
       "Dylan        651\n",
       "Ethan        332\n",
       "ISABELLA     331\n",
       "JUSTIN       310\n",
       "Jacob        351\n",
       "Liam        1055\n",
       "Matthew      308\n",
       "Name: Count, dtype: int64"
      ]
     },
     "execution_count": 18,
     "metadata": {},
     "output_type": "execute_result"
    }
   ],
   "source": [
    "# sum occurs for other columns -- Year of Birth and Rank\n",
    "# pop_names.head(10).groupby(['Name']).sum()\n",
    "\n",
    "# Observation 1: Different years appear.\n",
    "# Observation 2: Both genders appear.\n",
    "# Observation 3: Only ethnicity displayed is Hispanic. \n",
    "# Observation 4: Several names are presented in multiple results, e.g., Liam and Dylan\n",
    "# Let's group the output based on name and tally the counts \n",
    "pn_10 = pop_names[['Name', 'Count']].head(10)\n",
    "pn_10 = pn_10.groupby(['Name'])['Count'].sum()\n",
    "pn_10"
   ]
  },
  {
   "cell_type": "code",
   "execution_count": 20,
   "metadata": {},
   "outputs": [],
   "source": [
    "# bar chart plot -- minimal value-add\n",
    "#pn_10.plot.bar()"
   ]
  },
  {
   "cell_type": "code",
   "execution_count": 19,
   "metadata": {},
   "outputs": [
    {
     "data": {
      "text/plain": [
       "<matplotlib.axes._subplots.AxesSubplot at 0x1a21d1ce10>"
      ]
     },
     "execution_count": 19,
     "metadata": {},
     "output_type": "execute_result"
    },
    {
     "data": {
      "image/png": "[encoded data removed]",
      "text/plain": [
       "<Figure size 432x432 with 1 Axes>"
      ]
     },
     "metadata": {},
     "output_type": "display_data"
    }
   ],
   "source": [
    "# pie chart plot -- indicating popular name's impact in relation to other popular names\n",
    "pn_10.plot.pie(figsize=(6,6), autopct='%1.1f%%')"
   ]
  },
  {
   "cell_type": "markdown",
   "metadata": {},
   "source": [
    "## Popular Girls' Names (Overall)"
   ]
  },
  {
   "cell_type": "code",
   "execution_count": 20,
   "metadata": {},
   "outputs": [
    {
     "data": {
      "text/html": [
       "<div>\n",
       "<style scoped>\n",
       "    .dataframe tbody tr th:only-of-type {\n",
       "        vertical-align: middle;\n",
       "    }\n",
       "\n",
       "    .dataframe tbody tr th {\n",
       "        vertical-align: top;\n",
       "    }\n",
       "\n",
       "    .dataframe thead th {\n",
       "        text-align: right;\n",
       "    }\n",
       "</style>\n",
       "<table border=\"1\" class=\"dataframe\">\n",
       "  <thead>\n",
       "    <tr style=\"text-align: right;\">\n",
       "      <th></th>\n",
       "      <th>Year of Birth</th>\n",
       "      <th>Gender</th>\n",
       "      <th>Ethnicity</th>\n",
       "      <th>Name</th>\n",
       "      <th>Count</th>\n",
       "      <th>Rank</th>\n",
       "    </tr>\n",
       "  </thead>\n",
       "  <tbody>\n",
       "    <tr>\n",
       "      <th>9743</th>\n",
       "      <td>2011.0</td>\n",
       "      <td>FEMALE</td>\n",
       "      <td>HISPANIC</td>\n",
       "      <td>ISABELLA</td>\n",
       "      <td>331.0</td>\n",
       "      <td>1.0</td>\n",
       "    </tr>\n",
       "    <tr>\n",
       "      <th>2433</th>\n",
       "      <td>2015.0</td>\n",
       "      <td>FEMALE</td>\n",
       "      <td>HISPANIC</td>\n",
       "      <td>Isabella</td>\n",
       "      <td>307.0</td>\n",
       "      <td>1.0</td>\n",
       "    </tr>\n",
       "    <tr>\n",
       "      <th>356</th>\n",
       "      <td>2016.0</td>\n",
       "      <td>FEMALE</td>\n",
       "      <td>HISPANIC</td>\n",
       "      <td>Isabella</td>\n",
       "      <td>276.0</td>\n",
       "      <td>1.0</td>\n",
       "    </tr>\n",
       "    <tr>\n",
       "      <th>2434</th>\n",
       "      <td>2015.0</td>\n",
       "      <td>FEMALE</td>\n",
       "      <td>HISPANIC</td>\n",
       "      <td>Sophia</td>\n",
       "      <td>269.0</td>\n",
       "      <td>2.0</td>\n",
       "    </tr>\n",
       "    <tr>\n",
       "      <th>357</th>\n",
       "      <td>2016.0</td>\n",
       "      <td>FEMALE</td>\n",
       "      <td>HISPANIC</td>\n",
       "      <td>Sophia</td>\n",
       "      <td>261.0</td>\n",
       "      <td>2.0</td>\n",
       "    </tr>\n",
       "    <tr>\n",
       "      <th>2435</th>\n",
       "      <td>2015.0</td>\n",
       "      <td>FEMALE</td>\n",
       "      <td>HISPANIC</td>\n",
       "      <td>Mia</td>\n",
       "      <td>257.0</td>\n",
       "      <td>3.0</td>\n",
       "    </tr>\n",
       "    <tr>\n",
       "      <th>6385</th>\n",
       "      <td>2013.0</td>\n",
       "      <td>FEMALE</td>\n",
       "      <td>WHITE NON HISPANIC</td>\n",
       "      <td>Olivia</td>\n",
       "      <td>233.0</td>\n",
       "      <td>1.0</td>\n",
       "    </tr>\n",
       "    <tr>\n",
       "      <th>4667</th>\n",
       "      <td>2014.0</td>\n",
       "      <td>FEMALE</td>\n",
       "      <td>WHITE NON HISPANIC</td>\n",
       "      <td>Esther</td>\n",
       "      <td>233.0</td>\n",
       "      <td>2.0</td>\n",
       "    </tr>\n",
       "    <tr>\n",
       "      <th>661</th>\n",
       "      <td>2016.0</td>\n",
       "      <td>FEMALE</td>\n",
       "      <td>WHITE NON HISPANIC</td>\n",
       "      <td>Olivia</td>\n",
       "      <td>230.0</td>\n",
       "      <td>1.0</td>\n",
       "    </tr>\n",
       "    <tr>\n",
       "      <th>9744</th>\n",
       "      <td>2011.0</td>\n",
       "      <td>FEMALE</td>\n",
       "      <td>HISPANIC</td>\n",
       "      <td>MIA</td>\n",
       "      <td>229.0</td>\n",
       "      <td>2.0</td>\n",
       "    </tr>\n",
       "  </tbody>\n",
       "</table>\n",
       "</div>"
      ],
      "text/plain": [
       "      Year of Birth  Gender           Ethnicity      Name  Count  Rank\n",
       "9743         2011.0  FEMALE            HISPANIC  ISABELLA  331.0   1.0\n",
       "2433         2015.0  FEMALE            HISPANIC  Isabella  307.0   1.0\n",
       "356          2016.0  FEMALE            HISPANIC  Isabella  276.0   1.0\n",
       "2434         2015.0  FEMALE            HISPANIC    Sophia  269.0   2.0\n",
       "357          2016.0  FEMALE            HISPANIC    Sophia  261.0   2.0\n",
       "2435         2015.0  FEMALE            HISPANIC       Mia  257.0   3.0\n",
       "6385         2013.0  FEMALE  WHITE NON HISPANIC    Olivia  233.0   1.0\n",
       "4667         2014.0  FEMALE  WHITE NON HISPANIC    Esther  233.0   2.0\n",
       "661          2016.0  FEMALE  WHITE NON HISPANIC    Olivia  230.0   1.0\n",
       "9744         2011.0  FEMALE            HISPANIC       MIA  229.0   2.0"
      ]
     },
     "execution_count": 20,
     "metadata": {},
     "output_type": "execute_result"
    }
   ],
   "source": [
    "# sort by popular girl names, all ethnicity, all years\n",
    "pop_girls = babygirls.sort_values(by=['Count'], ascending=False)\n",
    "pop_girls.head(10)"
   ]
  },
  {
   "cell_type": "code",
   "execution_count": 21,
   "metadata": {},
   "outputs": [
    {
     "data": {
      "text/plain": [
       "Name\n",
       "ESTHER      233.0\n",
       "ISABELLA    914.0\n",
       "MIA         486.0\n",
       "OLIVIA      463.0\n",
       "SOPHIA      530.0\n",
       "Name: Count, dtype: float64"
      ]
     },
     "execution_count": 21,
     "metadata": {},
     "output_type": "execute_result"
    }
   ],
   "source": [
    "# Observation 1: Different years appear.\n",
    "# Observation 2: Two of the 4 ethnicities are displayed. \n",
    "# Observation 3: Several names are presented in multiple results, e.g., Isabella, Mia, Sophia\n",
    "\n",
    "# Note: capitalization inconsistencies, which could have been resolved in\n",
    "# Storage and Management (Lane 2) during data wrangling. \n",
    "pop_girls['Name'] = pop_girls['Name'].str.upper() \n",
    "\n",
    "# Let's group the output based on name and tally the counts \n",
    "pn_girls_10 = pop_girls[['Name', 'Count']].head(10)\n",
    "pn_girls_10 = pn_girls_10.groupby(['Name'])['Count'].sum()\n",
    "pn_girls_10"
   ]
  },
  {
   "cell_type": "code",
   "execution_count": 22,
   "metadata": {},
   "outputs": [
    {
     "data": {
      "text/plain": [
       "<matplotlib.axes._subplots.AxesSubplot at 0x10d788240>"
      ]
     },
     "execution_count": 22,
     "metadata": {},
     "output_type": "execute_result"
    },
    {
     "data": {
      "image/png": "[encoded data removed]",
      "text/plain": [
       "<Figure size 432x432 with 1 Axes>"
      ]
     },
     "metadata": {},
     "output_type": "display_data"
    }
   ],
   "source": [
    "# pie chart plot -- indicating popular name's impact in relation to other popular names\n",
    "pn_girls_10.plot.pie(figsize=(6,6), autopct='%1.1f%%')"
   ]
  },
  {
   "cell_type": "markdown",
   "metadata": {},
   "source": [
    "## Popular Boys' Names (Overall)"
   ]
  },
  {
   "cell_type": "code",
   "execution_count": 23,
   "metadata": {},
   "outputs": [
    {
     "data": {
      "text/html": [
       "<div>\n",
       "<style scoped>\n",
       "    .dataframe tbody tr th:only-of-type {\n",
       "        vertical-align: middle;\n",
       "    }\n",
       "\n",
       "    .dataframe tbody tr th {\n",
       "        vertical-align: top;\n",
       "    }\n",
       "\n",
       "    .dataframe thead th {\n",
       "        text-align: right;\n",
       "    }\n",
       "</style>\n",
       "<table border=\"1\" class=\"dataframe\">\n",
       "  <thead>\n",
       "    <tr style=\"text-align: right;\">\n",
       "      <th></th>\n",
       "      <th>Year of Birth</th>\n",
       "      <th>Gender</th>\n",
       "      <th>Ethnicity</th>\n",
       "      <th>Name</th>\n",
       "      <th>Count</th>\n",
       "      <th>Rank</th>\n",
       "    </tr>\n",
       "  </thead>\n",
       "  <tbody>\n",
       "    <tr>\n",
       "      <th>1413</th>\n",
       "      <td>2016.0</td>\n",
       "      <td>MALE</td>\n",
       "      <td>HISPANIC</td>\n",
       "      <td>Liam</td>\n",
       "      <td>387.0</td>\n",
       "      <td>1.0</td>\n",
       "    </tr>\n",
       "    <tr>\n",
       "      <th>3477</th>\n",
       "      <td>2015.0</td>\n",
       "      <td>MALE</td>\n",
       "      <td>HISPANIC</td>\n",
       "      <td>Liam</td>\n",
       "      <td>356.0</td>\n",
       "      <td>1.0</td>\n",
       "    </tr>\n",
       "    <tr>\n",
       "      <th>1414</th>\n",
       "      <td>2016.0</td>\n",
       "      <td>MALE</td>\n",
       "      <td>HISPANIC</td>\n",
       "      <td>Jacob</td>\n",
       "      <td>351.0</td>\n",
       "      <td>2.0</td>\n",
       "    </tr>\n",
       "    <tr>\n",
       "      <th>3478</th>\n",
       "      <td>2015.0</td>\n",
       "      <td>MALE</td>\n",
       "      <td>HISPANIC</td>\n",
       "      <td>Dylan</td>\n",
       "      <td>339.0</td>\n",
       "      <td>2.0</td>\n",
       "    </tr>\n",
       "    <tr>\n",
       "      <th>3479</th>\n",
       "      <td>2015.0</td>\n",
       "      <td>MALE</td>\n",
       "      <td>HISPANIC</td>\n",
       "      <td>Ethan</td>\n",
       "      <td>332.0</td>\n",
       "      <td>3.0</td>\n",
       "    </tr>\n",
       "    <tr>\n",
       "      <th>1415</th>\n",
       "      <td>2016.0</td>\n",
       "      <td>MALE</td>\n",
       "      <td>HISPANIC</td>\n",
       "      <td>Dylan</td>\n",
       "      <td>312.0</td>\n",
       "      <td>3.0</td>\n",
       "    </tr>\n",
       "    <tr>\n",
       "      <th>5302</th>\n",
       "      <td>2014.0</td>\n",
       "      <td>MALE</td>\n",
       "      <td>HISPANIC</td>\n",
       "      <td>Liam</td>\n",
       "      <td>312.0</td>\n",
       "      <td>1.0</td>\n",
       "    </tr>\n",
       "    <tr>\n",
       "      <th>10749</th>\n",
       "      <td>2011.0</td>\n",
       "      <td>MALE</td>\n",
       "      <td>HISPANIC</td>\n",
       "      <td>JUSTIN</td>\n",
       "      <td>310.0</td>\n",
       "      <td>2.0</td>\n",
       "    </tr>\n",
       "    <tr>\n",
       "      <th>3480</th>\n",
       "      <td>2015.0</td>\n",
       "      <td>MALE</td>\n",
       "      <td>HISPANIC</td>\n",
       "      <td>Matthew</td>\n",
       "      <td>308.0</td>\n",
       "      <td>4.0</td>\n",
       "    </tr>\n",
       "    <tr>\n",
       "      <th>7254</th>\n",
       "      <td>2013.0</td>\n",
       "      <td>MALE</td>\n",
       "      <td>WHITE NON HISPANIC</td>\n",
       "      <td>David</td>\n",
       "      <td>304.0</td>\n",
       "      <td>1.0</td>\n",
       "    </tr>\n",
       "  </tbody>\n",
       "</table>\n",
       "</div>"
      ],
      "text/plain": [
       "       Year of Birth Gender           Ethnicity     Name  Count  Rank\n",
       "1413          2016.0   MALE            HISPANIC     Liam  387.0   1.0\n",
       "3477          2015.0   MALE            HISPANIC     Liam  356.0   1.0\n",
       "1414          2016.0   MALE            HISPANIC    Jacob  351.0   2.0\n",
       "3478          2015.0   MALE            HISPANIC    Dylan  339.0   2.0\n",
       "3479          2015.0   MALE            HISPANIC    Ethan  332.0   3.0\n",
       "1415          2016.0   MALE            HISPANIC    Dylan  312.0   3.0\n",
       "5302          2014.0   MALE            HISPANIC     Liam  312.0   1.0\n",
       "10749         2011.0   MALE            HISPANIC   JUSTIN  310.0   2.0\n",
       "3480          2015.0   MALE            HISPANIC  Matthew  308.0   4.0\n",
       "7254          2013.0   MALE  WHITE NON HISPANIC    David  304.0   1.0"
      ]
     },
     "execution_count": 23,
     "metadata": {},
     "output_type": "execute_result"
    }
   ],
   "source": [
    "# sort by popular boy names, all ethnicity, all years\n",
    "pop_boys = babyboys.sort_values(by=['Count'], ascending=False)\n",
    "pop_boys.head(10)"
   ]
  },
  {
   "cell_type": "code",
   "execution_count": 24,
   "metadata": {},
   "outputs": [
    {
     "data": {
      "text/plain": [
       "Name\n",
       "DAVID       304.0\n",
       "DYLAN       651.0\n",
       "ETHAN       332.0\n",
       "JACOB       351.0\n",
       "JUSTIN      310.0\n",
       "LIAM       1055.0\n",
       "MATTHEW     308.0\n",
       "Name: Count, dtype: float64"
      ]
     },
     "execution_count": 24,
     "metadata": {},
     "output_type": "execute_result"
    }
   ],
   "source": [
    "# Observation 1: Different years appear.\n",
    "# Observation 2: Two of the 4 ethnicities are displayed. \n",
    "# Observation 3: Several names are presented in multiple results, e.g., Liam, Dylan\n",
    "\n",
    "# Note: capitalization inconsistencies, which could have been resolved in\n",
    "# Storage and Management (Lane 2) during data wrangling. \n",
    "pop_boys['Name'] = pop_boys['Name'].str.upper() \n",
    "\n",
    "# Let's group the output based on name and tally the counts \n",
    "pn_boys_10 = pop_boys[['Name', 'Count']].head(10)\n",
    "pn_boys_10 = pn_boys_10.groupby(['Name'])['Count'].sum()\n",
    "pn_boys_10"
   ]
  },
  {
   "cell_type": "code",
   "execution_count": 26,
   "metadata": {},
   "outputs": [
    {
     "data": {
      "text/plain": [
       "<matplotlib.axes._subplots.AxesSubplot at 0x1a1da9f198>"
      ]
     },
     "execution_count": 26,
     "metadata": {},
     "output_type": "execute_result"
    },
    {
     "data": {
      "image/png": "[encoded data removed]",
      "text/plain": [
       "<Figure size 432x432 with 1 Axes>"
      ]
     },
     "metadata": {},
     "output_type": "display_data"
    }
   ],
   "source": [
    "# pie chart plot -- indicating popular name's impact in relation to other popular names\n",
    "pn_boys_10.plot.pie(figsize=(6,6), autopct='%1.1f%%')"
   ]
  },
  {
   "cell_type": "markdown",
   "metadata": {},
   "source": [
    "## Popular Girls' Name by Ethnicity"
   ]
  },
  {
   "cell_type": "code",
   "execution_count": 28,
   "metadata": {},
   "outputs": [
    {
     "name": "stdout",
     "output_type": "stream",
     "text": [
      "Name\n",
      "CHLOE     509.0\n",
      "EMILY     110.0\n",
      "OLIVIA    492.0\n",
      "SOPHIA    263.0\n",
      "Name: Count, dtype: float64\n",
      "Name\n",
      "AVA        274.0\n",
      "KAYLA       78.0\n",
      "LONDON      92.0\n",
      "MADISON    408.0\n",
      "OLIVIA      82.0\n",
      "SKYLAR      91.0\n",
      "Name: Count, dtype: float64\n",
      "Name\n",
      "ISABELLA    914.0\n",
      "MIA         921.0\n",
      "SOPHIA      753.0\n",
      "Name: Count, dtype: float64\n",
      "Name\n",
      "EMMA      453.0\n",
      "ESTHER    457.0\n",
      "LEAH      220.0\n",
      "OLIVIA    688.0\n",
      "RACHEL    449.0\n",
      "Name: Count, dtype: float64\n"
     ]
    }
   ],
   "source": [
    "# sort by popular girl names, by ethnicity, all years\n",
    "# Asian\n",
    "babygirls_asian = babygirls.where(babygirls.Ethnicity == \"ASIAN AND PACIFIC ISLANDER\").dropna()\n",
    "\n",
    "# Make all names uppercase\n",
    "babygirls_asian['Name'] = babygirls_asian['Name'].str.upper()\n",
    "\n",
    "# sort by popular Asian girl names all years\n",
    "pop_girls_asian = babygirls_asian.sort_values(by=['Count'], ascending=False)\n",
    "\n",
    "# display, in case \n",
    "#print(pop_girls_asian.head(10))\n",
    "\n",
    "# Let's group the output based on name and tally the counts \n",
    "pn_asian_girls_10 = pop_girls_asian[['Name', 'Count']].head(10)\n",
    "pn_asian_girls_10 = pn_asian_girls_10.groupby(['Name'])['Count'].sum()\n",
    "print(pn_asian_girls_10)\n",
    "\n",
    "\n",
    "# Black\n",
    "babygirls_black = babygirls.where(babygirls.Ethnicity == \"BLACK NON HISPANIC\").dropna()\n",
    "babygirls_black['Name'] = babygirls_black['Name'].str.upper()\n",
    "pop_girls_black = babygirls_black.sort_values(by=['Count'], ascending=False)\n",
    "#print(pop_girls_black.head(10))\n",
    "\n",
    "pn_black_girls_10 = pop_girls_black[['Name', 'Count']].head(10)\n",
    "pn_black_girls_10 = pn_black_girls_10.groupby(['Name'])['Count'].sum()\n",
    "print(pn_black_girls_10)\n",
    "\n",
    "# Hispanic \n",
    "babygirls_hispanic = babygirls.where(babygirls.Ethnicity == \"HISPANIC\").dropna()\n",
    "babygirls_hispanic['Name'] = babygirls_hispanic['Name'].str.upper()\n",
    "pop_girls_hispanic = babygirls_hispanic.sort_values(by=['Count'], ascending=False)\n",
    "#print(pop_girls_hispanic.head(10))\n",
    "\n",
    "pn_hispanic_girls_10 = pop_girls_hispanic[['Name', 'Count']].head(10)\n",
    "pn_hispanic_girls_10 = pn_hispanic_girls_10.groupby(['Name'])['Count'].sum()\n",
    "print(pn_hispanic_girls_10)\n",
    "\n",
    "# White \n",
    "babygirls_white = babygirls.where(babygirls.Ethnicity == \"WHITE NON HISPANIC\").dropna()\n",
    "babygirls_white['Name'] = babygirls_white['Name'].str.upper()\n",
    "pop_girls_white = babygirls_white.sort_values(by=['Count'], ascending=False)\n",
    "#print(pop_girls_white.head(10))\n",
    "\n",
    "pn_white_girls_10 = pop_girls_white[['Name', 'Count']].head(10)\n",
    "pn_white_girls_10 = pn_white_girls_10.groupby(['Name'])['Count'].sum()\n",
    "print(pn_white_girls_10)\n"
   ]
  },
  {
   "cell_type": "code",
   "execution_count": 28,
   "metadata": {},
   "outputs": [
    {
     "data": {
      "text/plain": [
       "<Figure size 432x288 with 0 Axes>"
      ]
     },
     "metadata": {},
     "output_type": "display_data"
    },
    {
     "data": {
      "image/png": "[encoded data removed]",
      "text/plain": [
       "<Figure size 576x576 with 4 Axes>"
      ]
     },
     "metadata": {},
     "output_type": "display_data"
    }
   ],
   "source": [
    "fig = plt.figure()\n",
    "\n",
    "plt.figure(figsize=(8,8))\n",
    "# plot chart\n",
    "ax1 = plt.subplot(221, aspect='equal')\n",
    "ax1.set_title(\"Asian (ethnicity)\")\n",
    "pn_asian_girls_10.plot.pie(figsize=(8,8), ax=ax1, autopct='%1.1f%%')\n",
    "\n",
    "ax2 = plt.subplot(222, aspect='equal')\n",
    "ax2.set_title(\"Black (ethnicity)\")\n",
    "pn_black_girls_10.plot.pie(figsize=(8,8), ax=ax2, autopct='%1.1f%%')\n",
    "\n",
    "ax3 = plt.subplot(223, aspect='equal')\n",
    "ax3.set_title(\"Hispanic (ethnicity)\")\n",
    "pn_hispanic_girls_10.plot.pie(figsize=(8,8), ax=ax3, autopct='%1.1f%%')\n",
    "\n",
    "ax4 = plt.subplot(224, aspect='equal')\n",
    "ax4.set_title(\"White (ethnicity)\")\n",
    "pn_white_girls_10.plot.pie(figsize=(8,8), ax=ax4, autopct='%1.1f%%')\n",
    "\n",
    "plt.suptitle(\"Top Popular Girls' Name\")\n",
    "plt.show()"
   ]
  },
  {
   "cell_type": "code",
   "execution_count": null,
   "metadata": {},
   "outputs": [],
   "source": [
    "# you could determine the top popular boy names by ethnicity here...\n",
    "# a comparative analysis (of girls only, boys only, or both) could be done here...\n",
    "# other options"
   ]
  },
  {
   "cell_type": "markdown",
   "metadata": {},
   "source": [
    "# Lane 4: Data Visualization\n",
    "Displays outcomes/findings in an accessible manner\n",
    "\n",
    "*Note: Below, we share one approach. Be aware that there are static and interactive options* "
   ]
  },
  {
   "cell_type": "markdown",
   "metadata": {},
   "source": [
    "## Top-10 girls names by year "
   ]
  },
  {
   "cell_type": "code",
   "execution_count": 30,
   "metadata": {},
   "outputs": [
    {
     "data": {
      "image/png": "[encoded data removed]",
      "text/plain": [
       "<Figure size 432x288 with 1 Axes>"
      ]
     },
     "metadata": {
      "needs_background": "light"
     },
     "output_type": "display_data"
    },
    {
     "data": {
      "image/png": "[encoded data removed]",
      "text/plain": [
       "<Figure size 432x288 with 1 Axes>"
      ]
     },
     "metadata": {
      "needs_background": "light"
     },
     "output_type": "display_data"
    },
    {
     "data": {
      "image/png": "[encoded data removed]",
      "text/plain": [
       "<Figure size 432x288 with 1 Axes>"
      ]
     },
     "metadata": {
      "needs_background": "light"
     },
     "output_type": "display_data"
    },
    {
     "data": {
      "image/png": "[encoded data removed]",
      "text/plain": [
       "<Figure size 432x288 with 1 Axes>"
      ]
     },
     "metadata": {
      "needs_background": "light"
     },
     "output_type": "display_data"
    },
    {
     "data": {
      "image/png": "[encoded data removed]",
      "text/plain": [
       "<Figure size 432x288 with 1 Axes>"
      ]
     },
     "metadata": {
      "needs_background": "light"
     },
     "output_type": "display_data"
    },
    {
     "data": {
      "image/png": "[encoded data removed]",
      "text/plain": [
       "<Figure size 432x288 with 1 Axes>"
      ]
     },
     "metadata": {
      "needs_background": "light"
     },
     "output_type": "display_data"
    }
   ],
   "source": [
    "# Make all names uppercase\n",
    "babygirls['Name'] = babygirls['Name'].str.upper()\n",
    "babygirls_top10_byyear = pd.DataFrame(columns =['Year of Birth', 'Name', 'Count'])\n",
    "\n",
    "years = 2011, 2012, 2013, 2014, 2015, 2016\n",
    "\n",
    "# iterate through each year to isolate the top names and display their frequency counts\n",
    "for i in years:\n",
    "    data = babygirls.where(babygirls['Year of Birth'] == i).dropna().head(10)\n",
    "    data.Count=pd.to_numeric(data.Count)\n",
    "    df = data[['Name','Count']]\n",
    "    babygirls_top10_byyear = babygirls_top10_byyear.append(data[['Year of Birth','Name','Count']])\n",
    "    df.plot.barh(x='Name',y='Count', title=i)\n",
    "    plt.gca().invert_yaxis()"
   ]
  },
  {
   "cell_type": "code",
   "execution_count": 32,
   "metadata": {},
   "outputs": [
    {
     "data": {
      "text/plain": [
       "<matplotlib.axes._subplots.AxesSubplot at 0x1a1e84ba90>"
      ]
     },
     "execution_count": 32,
     "metadata": {},
     "output_type": "execute_result"
    },
    {
     "data": {
      "image/png": "[encoded data removed]",
      "text/plain": [
       "<Figure size 1152x576 with 1 Axes>"
      ]
     },
     "metadata": {
      "needs_background": "light"
     },
     "output_type": "display_data"
    }
   ],
   "source": [
    "# Observation 1: some names appeared in multiple years\n",
    "\n",
    "# alphabetizes, groups and orders names with their frequency counts\n",
    "bg_10 = babygirls_top10_byyear.groupby(['Name', 'Year of Birth'])['Count'].sum()\n",
    "bg_10.plot.bar(x='Name',y='Count', title=\"Top Girl Names\", figsize=(16,8), stacked=True)"
   ]
  },
  {
   "cell_type": "code",
   "execution_count": 29,
   "metadata": {},
   "outputs": [],
   "source": [
    "# depending on which analyses where performed, other visualizations could be shown"
   ]
  },
  {
   "cell_type": "markdown",
   "metadata": {},
   "source": [
    "# Lane 5: Data Storytelling\n",
    "The narrative that contextualizes the outcomes and findings"
   ]
  },
  {
   "cell_type": "code",
   "execution_count": 31,
   "metadata": {},
   "outputs": [],
   "source": [
    "# Share a summary of your findings\n",
    "# Share your interpretations\n",
    "# Discuss your conclusions, open challenges and so forth\n",
    "# Consider this your executive summary\n",
    "\n",
    "# How do you plan to disseminate your outcomes to both external and internal stakeholders?"
   ]
  },
  {
   "cell_type": "markdown",
   "metadata": {},
   "source": [
    "# Thank you!"
   ]
  }
 ],
 "metadata": {
  "kernelspec": {
   "display_name": "Python 3",
   "language": "python",
   "name": "python3"
  },
  "language_info": {
   "codemirror_mode": {
    "name": "ipython",
    "version": 3
   },
   "file_extension": ".py",
   "mimetype": "text/x-python",
   "name": "python",
   "nbconvert_exporter": "python",
   "pygments_lexer": "ipython3",
   "version": "3.7.1"
  }
 },
 "nbformat": 4,
 "nbformat_minor": 1
}
